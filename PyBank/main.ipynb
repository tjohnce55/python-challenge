{
 "cells": [
  {
   "cell_type": "code",
   "execution_count": 12,
   "id": "ee301f9d-5214-45ec-b419-63ddb84e24e1",
   "metadata": {
    "tags": []
   },
   "outputs": [],
   "source": [
    "# Import from the pathlib library, the main class Path\n",
    "from pathlib import Path\n",
    "import csv"
   ]
  },
  {
   "cell_type": "code",
   "execution_count": 13,
   "id": "ac3495a8-9857-4184-bd05-94d6efad310f",
   "metadata": {
    "tags": []
   },
   "outputs": [
    {
     "name": "stdout",
     "output_type": "stream",
     "text": [
      "Current Working Directory: C:\\Users\\tjohn\\python-challenge\\PyBank\n"
     ]
    }
   ],
   "source": [
    "# Check the current directory where the Python program is executing from\n",
    "print(f\"Current Working Directory: {Path.cwd()}\")"
   ]
  },
  {
   "cell_type": "code",
   "execution_count": 14,
   "id": "103eedee-0fc7-46d2-b370-d240eb66349c",
   "metadata": {
    "tags": []
   },
   "outputs": [],
   "source": [
    "# Set the input file path irregardless of OS\n",
    "filepath = Path(\"./budget_data.csv\")"
   ]
  },
  {
   "cell_type": "code",
   "execution_count": 54,
   "id": "375aec38-83ad-4982-90d2-6bd0edf70c64",
   "metadata": {
    "tags": []
   },
   "outputs": [
    {
     "name": "stdout",
     "output_type": "stream",
     "text": [
      "Header: Date,Profit/Losses\n",
      "\n",
      "Financial Analysis\n",
      "....................................................................................\n",
      "total months: 86\n",
      "Total: $38382578\n",
      "Average change: $-2315.1176470588234\n",
      "Greatest Increase in Profits: Feb-2012 $1926159\n",
      "Greatest Decrease in Profits: Sep-2013 $-2196167\n"
     ]
    }
   ],
   "source": [
    "# Open and read csv\n",
    "with open(filepath, newline=\"\") as csvfile:\n",
    "    csvreader = csv.reader(csvfile, delimiter=\",\")\n",
    "    csv_header = next(csvfile)\n",
    "    \n",
    "    # Initialize variables\n",
    "    profit = []\n",
    "    months = []\n",
    "    revenue_change = []\n",
    "    \n",
    "    # Read each row of data via a for loop\n",
    "    for rows in csvreader:\n",
    "        profit.append(int(rows[1]))\n",
    "        months.append(rows[0])\n",
    "        \n",
    "    # Determine total number of months\n",
    "    total_months = len(months)\n",
    "    \n",
    "    # Calculate the revenue change\n",
    "    for x in range(1, len(profit)):\n",
    "        revenue_change.append((int(profit[x]) - int(profit[x-1])))\n",
    "    \n",
    "    # Calculate the average revenue change\n",
    "    revenue_average = sum(revenue_change) / len(revenue_change)\n",
    "\n",
    "    # Calculate the greatest increase in profits\n",
    "    greatest_increase = max(revenue_change)\n",
    "    \n",
    "    # Calculate the greatest decrease in losses\n",
    "    greatest_decrease = min(revenue_change)\n",
    "\n",
    "    # Print the results\n",
    "    print(f\"Header: {csv_header}\")\n",
    "    \n",
    "    print(\"Financial Analysis\")\n",
    "\n",
    "    print(\"....................................................................................\")\n",
    "\n",
    "    print(\"total months: \" + str(total_months))\n",
    "\n",
    "    print(\"Total: \" + \"$\" + str(sum(profit)))\n",
    "\n",
    "    print(\"Average change: \" + \"$\" + str(revenue_average))\n",
    "\n",
    "    print(\"Greatest Increase in Profits: \" + str(months[revenue_change.index(max(revenue_change))+1]) + \" \" + \"$\" + str(greatest_increase))\n",
    "\n",
    "    print(\"Greatest Decrease in Profits: \" + str(months[revenue_change.index(min(revenue_change))+1]) + \" \" + \"$\" + str(greatest_decrease))\n",
    "\n",
    "\n",
    "    # Output results to a text file\n",
    "\n",
    "    file = open(\"output.txt\",\"w\")\n",
    "\n",
    "    file.write(\"Financial Analysis\" + \"\\n\")\n",
    "\n",
    "    file.write(\"....................................................................................\" + \"\\n\")\n",
    "\n",
    "    file.write(\"total months: \" + str(total_months) + \"\\n\")\n",
    "\n",
    "    file.write(\"Total: \" + \"$\" + str(sum(profit)) + \"\\n\")\n",
    "\n",
    "    file.write(\"Average change: \" + \"$\" + str(revenue_average) + \"\\n\")\n",
    "\n",
    "    file.write(\"Greatest Increase in Profits: \" + str(months[revenue_change.index(max(revenue_change))+1]) + \" \" + \"$\" + str(greatest_increase) + \"\\n\")\n",
    "\n",
    "    file.write(\"Greatest Decrease in Profits: \" + str(months[revenue_change.index(min(revenue_change))+1]) + \" \" + \"$\" + str(greatest_decrease) + \"\\n\")\n",
    "\n",
    "    file.close()\n"
   ]
  },
  {
   "cell_type": "code",
   "execution_count": null,
   "id": "e15da22b-0699-455f-9835-2eb9ade9b7c0",
   "metadata": {},
   "outputs": [],
   "source": []
  }
 ],
 "metadata": {
  "kernelspec": {
   "display_name": "Python 3 (ipykernel)",
   "language": "python",
   "name": "python3"
  },
  "language_info": {
   "codemirror_mode": {
    "name": "ipython",
    "version": 3
   },
   "file_extension": ".py",
   "mimetype": "text/x-python",
   "name": "python",
   "nbconvert_exporter": "python",
   "pygments_lexer": "ipython3",
   "version": "3.11.4"
  }
 },
 "nbformat": 4,
 "nbformat_minor": 5
}
